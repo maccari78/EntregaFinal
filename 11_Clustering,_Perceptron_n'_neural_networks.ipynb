{
  "nbformat": 4,
  "nbformat_minor": 0,
  "metadata": {
    "colab": {
      "provenance": [],
      "authorship_tag": "ABX9TyOQE64mp0oSM8rs7pnNBnwd",
      "include_colab_link": true
    },
    "kernelspec": {
      "name": "python3",
      "display_name": "Python 3"
    },
    "language_info": {
      "name": "python"
    }
  },
  "cells": [
    {
      "cell_type": "markdown",
      "metadata": {
        "id": "view-in-github",
        "colab_type": "text"
      },
      "source": [
        "<a href=\"https://colab.research.google.com/github/maccari78/EntregaFinal/blob/main/11_Clustering%2C_Perceptron_n'_neural_networks.ipynb\" target=\"_parent\"><img src=\"https://colab.research.google.com/assets/colab-badge.svg\" alt=\"Open In Colab\"/></a>"
      ]
    },
    {
      "cell_type": "markdown",
      "source": [
        "[Clustering con Python](https://cienciadedatos.net/documentos/py20-clustering-con-python)  \n",
        "[Algoritmo Perceptrón](https://cienciadedatos.net/documentos/50_algoritmo_perceptron#)  \n",
        "[Redes neuronales con Python](https://cienciadedatos.net/documentos/py35-redes-neuronales-python)"
      ],
      "metadata": {
        "id": "X94duSw3lnVy"
      }
    }
  ]
}